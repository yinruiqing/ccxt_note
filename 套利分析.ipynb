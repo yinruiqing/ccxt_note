{
 "cells": [
  {
   "cell_type": "markdown",
   "metadata": {},
   "source": [
    "# 套利分析"
   ]
  },
  {
   "cell_type": "code",
   "execution_count": 1,
   "metadata": {
    "collapsed": true
   },
   "outputs": [],
   "source": [
    "%matplotlib inline"
   ]
  },
  {
   "cell_type": "code",
   "execution_count": 2,
   "metadata": {
    "collapsed": true
   },
   "outputs": [],
   "source": [
    "import ccxt\n",
    "import urllib.error\n",
    "import requests\n",
    "import asyncio\n",
    "import time\n",
    "import matplotlib.pyplot as plt  \n",
    "import pandas as pd\n",
    "import numpy as np"
   ]
  },
  {
   "cell_type": "code",
   "execution_count": 3,
   "metadata": {
    "collapsed": true
   },
   "outputs": [],
   "source": [
    "SYMBOL = 'ETH/BTC'"
   ]
  },
  {
   "cell_type": "code",
   "execution_count": 6,
   "metadata": {
    "collapsed": true
   },
   "outputs": [],
   "source": [
    "def get_all_exchange():\n",
    "    return [getattr(ccxt,name)() for name in ccxt.exchanges]"
   ]
  },
  {
   "cell_type": "code",
   "execution_count": 7,
   "metadata": {
    "collapsed": true
   },
   "outputs": [],
   "source": [
    "def unzip(l): \n",
    "    return list(zip(*l))"
   ]
  },
  {
   "cell_type": "code",
   "execution_count": 8,
   "metadata": {
    "collapsed": true
   },
   "outputs": [],
   "source": [
    "def get_order_books(exchange_list, symbol):\n",
    "    return {exchange.id: exchange.fetch_order_book(symbol) \n",
    "            for exchange in exchange_list}"
   ]
  },
  {
   "cell_type": "code",
   "execution_count": 9,
   "metadata": {
    "collapsed": true
   },
   "outputs": [],
   "source": [
    "def process_order_book(order_book):\n",
    "    result = order_book.copy()\n",
    "    result['asks'] = pd.DataFrame(data = {'price':list(unzip(order_book['asks']))[0], \n",
    "                                              'volume': list(unzip(order_book['asks']))[1]})\n",
    "    result['bids'] = pd.DataFrame(data = {'price':list(unzip(order_book['bids']))[0], \n",
    "                                              'volume': list(unzip(order_book['bids']))[1]})\n",
    "    return result"
   ]
  },
  {
   "cell_type": "code",
   "execution_count": 30,
   "metadata": {
    "collapsed": true
   },
   "outputs": [],
   "source": [
    "orders_list = get_order_books([ccxt.huobipro(), ccxt.okex()], SYMBOL)"
   ]
  },
  {
   "cell_type": "code",
   "execution_count": 38,
   "metadata": {
    "collapsed": true
   },
   "outputs": [],
   "source": [
    "orders_hobipro,  orders_okex = (process_order_book(orders_list['huobipro']), \n",
    "                               process_order_book(orders_list['okex']))"
   ]
  },
  {
   "cell_type": "code",
   "execution_count": 39,
   "metadata": {},
   "outputs": [
    {
     "data": {
      "text/html": [
       "<div>\n",
       "<style>\n",
       "    .dataframe thead tr:only-child th {\n",
       "        text-align: right;\n",
       "    }\n",
       "\n",
       "    .dataframe thead th {\n",
       "        text-align: left;\n",
       "    }\n",
       "\n",
       "    .dataframe tbody tr th {\n",
       "        vertical-align: top;\n",
       "    }\n",
       "</style>\n",
       "<table border=\"1\" class=\"dataframe\">\n",
       "  <thead>\n",
       "    <tr style=\"text-align: right;\">\n",
       "      <th></th>\n",
       "      <th>price</th>\n",
       "      <th>volume</th>\n",
       "    </tr>\n",
       "  </thead>\n",
       "  <tbody>\n",
       "    <tr>\n",
       "      <th>0</th>\n",
       "      <td>0.080473</td>\n",
       "      <td>2.8372</td>\n",
       "    </tr>\n",
       "    <tr>\n",
       "      <th>1</th>\n",
       "      <td>0.080498</td>\n",
       "      <td>7.5100</td>\n",
       "    </tr>\n",
       "    <tr>\n",
       "      <th>2</th>\n",
       "      <td>0.080508</td>\n",
       "      <td>0.0935</td>\n",
       "    </tr>\n",
       "    <tr>\n",
       "      <th>3</th>\n",
       "      <td>0.080536</td>\n",
       "      <td>0.0187</td>\n",
       "    </tr>\n",
       "    <tr>\n",
       "      <th>4</th>\n",
       "      <td>0.080547</td>\n",
       "      <td>8.2700</td>\n",
       "    </tr>\n",
       "  </tbody>\n",
       "</table>\n",
       "</div>"
      ],
      "text/plain": [
       "      price  volume\n",
       "0  0.080473  2.8372\n",
       "1  0.080498  7.5100\n",
       "2  0.080508  0.0935\n",
       "3  0.080536  0.0187\n",
       "4  0.080547  8.2700"
      ]
     },
     "execution_count": 39,
     "metadata": {},
     "output_type": "execute_result"
    }
   ],
   "source": [
    "orders_hobipro['asks'].head()"
   ]
  },
  {
   "cell_type": "code",
   "execution_count": 40,
   "metadata": {},
   "outputs": [
    {
     "data": {
      "text/html": [
       "<div>\n",
       "<style>\n",
       "    .dataframe thead tr:only-child th {\n",
       "        text-align: right;\n",
       "    }\n",
       "\n",
       "    .dataframe thead th {\n",
       "        text-align: left;\n",
       "    }\n",
       "\n",
       "    .dataframe tbody tr th {\n",
       "        vertical-align: top;\n",
       "    }\n",
       "</style>\n",
       "<table border=\"1\" class=\"dataframe\">\n",
       "  <thead>\n",
       "    <tr style=\"text-align: right;\">\n",
       "      <th></th>\n",
       "      <th>price</th>\n",
       "      <th>volume</th>\n",
       "    </tr>\n",
       "  </thead>\n",
       "  <tbody>\n",
       "    <tr>\n",
       "      <th>0</th>\n",
       "      <td>0.080430</td>\n",
       "      <td>0.2585</td>\n",
       "    </tr>\n",
       "    <tr>\n",
       "      <th>1</th>\n",
       "      <td>0.080429</td>\n",
       "      <td>1.3675</td>\n",
       "    </tr>\n",
       "    <tr>\n",
       "      <th>2</th>\n",
       "      <td>0.080427</td>\n",
       "      <td>0.0400</td>\n",
       "    </tr>\n",
       "    <tr>\n",
       "      <th>3</th>\n",
       "      <td>0.080413</td>\n",
       "      <td>0.0665</td>\n",
       "    </tr>\n",
       "    <tr>\n",
       "      <th>4</th>\n",
       "      <td>0.080412</td>\n",
       "      <td>0.0025</td>\n",
       "    </tr>\n",
       "  </tbody>\n",
       "</table>\n",
       "</div>"
      ],
      "text/plain": [
       "      price  volume\n",
       "0  0.080430  0.2585\n",
       "1  0.080429  1.3675\n",
       "2  0.080427  0.0400\n",
       "3  0.080413  0.0665\n",
       "4  0.080412  0.0025"
      ]
     },
     "execution_count": 40,
     "metadata": {},
     "output_type": "execute_result"
    }
   ],
   "source": [
    "orders_hobipro['bids'].head()"
   ]
  },
  {
   "cell_type": "markdown",
   "metadata": {},
   "source": [
    "## 火币网和 OKEX 'ETH/BTC' 的交易盘"
   ]
  },
  {
   "cell_type": "code",
   "execution_count": 51,
   "metadata": {},
   "outputs": [
    {
     "data": {
      "image/png": "[encoded data removed]",
      "text/plain": [
       "<matplotlib.figure.Figure at 0x112e95eb8>"
      ]
     },
     "metadata": {},
     "output_type": "display_data"
    }
   ],
   "source": [
    "plt.figure(figsize=(15, 6)) \n",
    "\n",
    "ax = plt.subplot(212, )\n",
    "plt.plot(orders_okex['asks']['price'],orders_okex['asks']['volume'], label = 'ask')  \n",
    "plt.plot(orders_okex['bids']['price'],orders_okex['bids']['volume'], label = 'bid')  \n",
    "#plt.legend()\n",
    "plt.title('Okex')\n",
    "plt.subplot(211,sharex=ax)\n",
    "plt.plot(orders_hobipro['asks']['price'],orders_hobipro['asks']['volume'], label = 'ask')  \n",
    "plt.plot(orders_hobipro['bids']['price'],orders_hobipro['bids']['volume'], label = 'bid')  \n",
    "plt.legend()\n",
    "plt.title('Huobi')\n",
    "plt.tight_layout()\n",
    "plt.show()  "
   ]
  },
  {
   "cell_type": "markdown",
   "metadata": {},
   "source": [
    "## 计算两个交易所之间的价差"
   ]
  },
  {
   "cell_type": "code",
   "execution_count": 57,
   "metadata": {
    "collapsed": true
   },
   "outputs": [],
   "source": [
    "def difference_between_two_exchange(ex1, ex2, symbol,t = 10):\n",
    "    \n",
    "    ex1_bids = []\n",
    "    ex2_bids = []\n",
    "    ex1_asks = []\n",
    "    ex2_asks = []\n",
    "    for i in range(t):\n",
    "        ex1_order_book = ex1.fetch_order_book(symbol)\n",
    "        ex2_order_book = ex2.fetch_order_book(symbol)\n",
    "        ex1_bids.append(ex1_order_book['bids'][0][0])\n",
    "        ex2_bids.append(ex2_order_book['bids'][0][0])\n",
    "        ex1_asks.append(ex1_order_book['asks'][0][0])\n",
    "        ex2_asks.append(ex2_order_book['asks'][0][0])\n",
    "        time.sleep(1)\n",
    "    ex1_bids = np.array(ex1_bids)\n",
    "    ex2_bids = np.array(ex2_bids) \n",
    "    ex1_asks = np.array(ex1_asks) \n",
    "    ex2_asks = np.array(ex2_asks)\n",
    "    \n",
    "    return {'dbids': ex1_bids - ex2_bids,\n",
    "            'dasks': ex1_asks - ex2_asks,\n",
    "            'dbidask':ex1_bids - ex2_asks,\n",
    "            'daskbid':ex1_asks - ex2_bids}"
   ]
  },
  {
   "cell_type": "markdown",
   "metadata": {},
   "source": [
    "## 将火币和 OKEX 的 ‘ETH/BTC’ 价格进行比较\n",
    "时间为 10s"
   ]
  },
  {
   "cell_type": "code",
   "execution_count": 58,
   "metadata": {
    "collapsed": true
   },
   "outputs": [],
   "source": [
    "r = difference_between_two_exchange(ccxt.huobipro(), ccxt.okex(), SYMBOL, t = 10)"
   ]
  },
  {
   "cell_type": "code",
   "execution_count": 82,
   "metadata": {},
   "outputs": [
    {
     "data": {
      "image/png": "[encoded data removed]",
      "text/plain": [
       "<matplotlib.figure.Figure object at 0x117caacf8>"
      ]
     },
     "metadata": {},
     "output_type": "display_data"
    }
   ],
   "source": [
    "plt.figure(figsize=(10, 6)) \n",
    "plt.plot(r['dbids'], label = 'dbids')  \n",
    "plt.plot(r['dasks'], label = 'dasks')  \n",
    "plt.plot(r['daskbid'], label = 'daskbid')  \n",
    "plt.plot(r['dbidask'], label = 'dbidask')  \n",
    "plt.legend()\n",
    "plt.title('huobipro & okex')\n",
    "plt.tight_layout()\n",
    "plt.show()"
   ]
  },
  {
   "cell_type": "markdown",
   "metadata": {},
   "source": [
    " ##  找到所有交易所中最便宜的卖价 和 最贵的买价\n",
    " 没考虑时延和异步"
   ]
  },
  {
   "cell_type": "code",
   "execution_count": 13,
   "metadata": {
    "collapsed": true
   },
   "outputs": [],
   "source": [
    "def arbitrage(symbol, high_limit=0.2, low_limit=0.001 ):\n",
    "    highest_bid = ('', 0)\n",
    "    lowest_ask = ('', 1000)\n",
    "    for exchange in get_all_exchange():\n",
    "        try:\n",
    "            orders = exchange.fetch_order_book(symbol)\n",
    "            if orders['timestamp'] is None:\n",
    "                continue\n",
    "            e_bid = orders['bids'][0][0]\n",
    "            e_ask = orders['asks'][0][0]\n",
    "            if e_ask > high_limit or e_ask < low_limit:\n",
    "                continue\n",
    "            highest_bid = highest_bid if e_bid < highest_bid[1] else (exchange.id, e_bid)\n",
    "            lowest_ask = lowest_ask if e_ask > lowest_ask[1] else (exchange.id, e_ask)\n",
    "        except ccxt.AuthenticationError:\n",
    "            pass\n",
    "        except ccxt.ExchangeError:\n",
    "            pass\n",
    "        except requests.exceptions.HTTPError:\n",
    "            pass\n",
    "        except:\n",
    "            pass\n",
    "    return highest_bid, lowest_ask, (highest_bid[1]/lowest_ask[1]-1)"
   ]
  },
  {
   "cell_type": "code",
   "execution_count": null,
   "metadata": {
    "collapsed": true
   },
   "outputs": [],
   "source": []
  },
  {
   "cell_type": "markdown",
   "metadata": {},
   "source": [
    "## 看一下 ETH 和 BTC 有没有套利空间"
   ]
  },
  {
   "cell_type": "code",
   "execution_count": 14,
   "metadata": {},
   "outputs": [
    {
     "data": {
      "text/plain": [
       "(('luno', 0.0812), ('therock', 0.08086231), 0.004176111219182266)"
      ]
     },
     "execution_count": 14,
     "metadata": {},
     "output_type": "execute_result"
    }
   ],
   "source": [
    "arbitrage(SYMBOL)"
   ]
  },
  {
   "cell_type": "markdown",
   "metadata": {},
   "source": [
    "## 看看其它与比特币有关的交易对有没有套利空间"
   ]
  },
  {
   "cell_type": "code",
   "execution_count": 125,
   "metadata": {
    "collapsed": true
   },
   "outputs": [],
   "source": [
    "BTC_PAIRS = [symbol for symbol in ccxt.okex().loadMarkets().keys() \n",
    "             if symbol.startswith('BTC') or symbol.endswith('BTC')]"
   ]
  },
  {
   "cell_type": "code",
   "execution_count": null,
   "metadata": {
    "collapsed": true
   },
   "outputs": [],
   "source": [
    "# 这段代码得改成异步的，不然运行时间太长\n",
    "# 得考虑一下查询频率 有些交易所有限制\n",
    "#for symbol in BTC_PAIRS:\n",
    "#    print(symbol)\n",
    "#    print(arbitrage(symbol))"
   ]
  },
  {
   "cell_type": "code",
   "execution_count": null,
   "metadata": {
    "collapsed": true
   },
   "outputs": [],
   "source": []
  }
 ],
 "metadata": {
  "kernelspec": {
   "display_name": "Python 3",
   "language": "python",
   "name": "python3"
  },
  "language_info": {
   "codemirror_mode": {
    "name": "ipython",
    "version": 3
   },
   "file_extension": ".py",
   "mimetype": "text/x-python",
   "name": "python",
   "nbconvert_exporter": "python",
   "pygments_lexer": "ipython3",
   "version": "3.6.1"
  }
 },
 "nbformat": 4,
 "nbformat_minor": 2
}

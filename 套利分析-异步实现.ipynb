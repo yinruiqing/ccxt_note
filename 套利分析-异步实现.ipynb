{
 "cells": [
  {
   "cell_type": "markdown",
   "metadata": {},
   "source": [
    "# 套利分析"
   ]
  },
  {
   "cell_type": "code",
   "execution_count": 37,
   "metadata": {
    "collapsed": true
   },
   "outputs": [],
   "source": [
    "%matplotlib inline"
   ]
  },
  {
   "cell_type": "code",
   "execution_count": 38,
   "metadata": {
    "collapsed": true
   },
   "outputs": [],
   "source": [
    "import ccxt.async as ccxt\n",
    "import urllib.error\n",
    "import requests\n",
    "import asyncio\n",
    "import time\n",
    "import matplotlib.pyplot as plt  \n",
    "import pandas as pd\n",
    "import numpy as np"
   ]
  },
  {
   "cell_type": "code",
   "execution_count": 39,
   "metadata": {
    "collapsed": true
   },
   "outputs": [],
   "source": [
    "SYMBOL = 'ETH/BTC'"
   ]
  },
  {
   "cell_type": "code",
   "execution_count": 43,
   "metadata": {
    "collapsed": true
   },
   "outputs": [],
   "source": [
    "def get_all_exchange():\n",
    "    return [getattr(ccxt,name)() for name in ccxt.exchanges]"
   ]
  },
  {
   "cell_type": "code",
   "execution_count": 6,
   "metadata": {
    "collapsed": true
   },
   "outputs": [],
   "source": [
    "def unzip(l): \n",
    "    return list(zip(*l))"
   ]
  },
  {
   "cell_type": "code",
   "execution_count": 17,
   "metadata": {},
   "outputs": [],
   "source": [
    "async def get_order_books(exchange_list, symbol):\n",
    "    res = {}\n",
    "    for exchange in exchange_list:\n",
    "        res[exchange.id] = await exchange.fetch_order_book(symbol) \n",
    "    return res"
   ]
  },
  {
   "cell_type": "code",
   "execution_count": 20,
   "metadata": {
    "collapsed": true
   },
   "outputs": [],
   "source": [
    "def process_order_book(order_book):\n",
    "    result = order_book.copy()\n",
    "    result['asks'] = pd.DataFrame(data = {'price':list(unzip(order_book['asks']))[0], \n",
    "                                              'volume': list(unzip(order_book['asks']))[1]})\n",
    "    result['bids'] = pd.DataFrame(data = {'price':list(unzip(order_book['bids']))[0], \n",
    "                                              'volume': list(unzip(order_book['bids']))[1]})\n",
    "    return result"
   ]
  },
  {
   "cell_type": "code",
   "execution_count": 21,
   "metadata": {
    "collapsed": true
   },
   "outputs": [],
   "source": [
    "orders_list = asyncio.get_event_loop().run_until_complete(get_order_books([ccxt.huobipro(), ccxt.okex()], SYMBOL))"
   ]
  },
  {
   "cell_type": "code",
   "execution_count": 22,
   "metadata": {
    "collapsed": true
   },
   "outputs": [],
   "source": [
    "orders_hobipro,  orders_okex = (process_order_book(orders_list['huobipro']), \n",
    "                               process_order_book(orders_list['okex']))"
   ]
  },
  {
   "cell_type": "code",
   "execution_count": 23,
   "metadata": {},
   "outputs": [
    {
     "data": {
      "text/html": [
       "<div>\n",
       "<style>\n",
       "    .dataframe thead tr:only-child th {\n",
       "        text-align: right;\n",
       "    }\n",
       "\n",
       "    .dataframe thead th {\n",
       "        text-align: left;\n",
       "    }\n",
       "\n",
       "    .dataframe tbody tr th {\n",
       "        vertical-align: top;\n",
       "    }\n",
       "</style>\n",
       "<table border=\"1\" class=\"dataframe\">\n",
       "  <thead>\n",
       "    <tr style=\"text-align: right;\">\n",
       "      <th></th>\n",
       "      <th>price</th>\n",
       "      <th>volume</th>\n",
       "    </tr>\n",
       "  </thead>\n",
       "  <tbody>\n",
       "    <tr>\n",
       "      <th>0</th>\n",
       "      <td>0.081040</td>\n",
       "      <td>1.0000</td>\n",
       "    </tr>\n",
       "    <tr>\n",
       "      <th>1</th>\n",
       "      <td>0.081041</td>\n",
       "      <td>2.3529</td>\n",
       "    </tr>\n",
       "    <tr>\n",
       "      <th>2</th>\n",
       "      <td>0.081045</td>\n",
       "      <td>13.0065</td>\n",
       "    </tr>\n",
       "    <tr>\n",
       "      <th>3</th>\n",
       "      <td>0.081047</td>\n",
       "      <td>0.9068</td>\n",
       "    </tr>\n",
       "    <tr>\n",
       "      <th>4</th>\n",
       "      <td>0.081075</td>\n",
       "      <td>10.1790</td>\n",
       "    </tr>\n",
       "  </tbody>\n",
       "</table>\n",
       "</div>"
      ],
      "text/plain": [
       "      price   volume\n",
       "0  0.081040   1.0000\n",
       "1  0.081041   2.3529\n",
       "2  0.081045  13.0065\n",
       "3  0.081047   0.9068\n",
       "4  0.081075  10.1790"
      ]
     },
     "execution_count": 23,
     "metadata": {},
     "output_type": "execute_result"
    }
   ],
   "source": [
    "orders_hobipro['asks'].head()"
   ]
  },
  {
   "cell_type": "code",
   "execution_count": 24,
   "metadata": {},
   "outputs": [
    {
     "data": {
      "text/html": [
       "<div>\n",
       "<style>\n",
       "    .dataframe thead tr:only-child th {\n",
       "        text-align: right;\n",
       "    }\n",
       "\n",
       "    .dataframe thead th {\n",
       "        text-align: left;\n",
       "    }\n",
       "\n",
       "    .dataframe tbody tr th {\n",
       "        vertical-align: top;\n",
       "    }\n",
       "</style>\n",
       "<table border=\"1\" class=\"dataframe\">\n",
       "  <thead>\n",
       "    <tr style=\"text-align: right;\">\n",
       "      <th></th>\n",
       "      <th>price</th>\n",
       "      <th>volume</th>\n",
       "    </tr>\n",
       "  </thead>\n",
       "  <tbody>\n",
       "    <tr>\n",
       "      <th>0</th>\n",
       "      <td>0.081020</td>\n",
       "      <td>0.4889</td>\n",
       "    </tr>\n",
       "    <tr>\n",
       "      <th>1</th>\n",
       "      <td>0.081019</td>\n",
       "      <td>0.6982</td>\n",
       "    </tr>\n",
       "    <tr>\n",
       "      <th>2</th>\n",
       "      <td>0.080997</td>\n",
       "      <td>0.0020</td>\n",
       "    </tr>\n",
       "    <tr>\n",
       "      <th>3</th>\n",
       "      <td>0.080975</td>\n",
       "      <td>2.4016</td>\n",
       "    </tr>\n",
       "    <tr>\n",
       "      <th>4</th>\n",
       "      <td>0.080974</td>\n",
       "      <td>0.1000</td>\n",
       "    </tr>\n",
       "  </tbody>\n",
       "</table>\n",
       "</div>"
      ],
      "text/plain": [
       "      price  volume\n",
       "0  0.081020  0.4889\n",
       "1  0.081019  0.6982\n",
       "2  0.080997  0.0020\n",
       "3  0.080975  2.4016\n",
       "4  0.080974  0.1000"
      ]
     },
     "execution_count": 24,
     "metadata": {},
     "output_type": "execute_result"
    }
   ],
   "source": [
    "orders_hobipro['bids'].head()"
   ]
  },
  {
   "cell_type": "markdown",
   "metadata": {},
   "source": [
    "## 火币网和 OKEX 'ETH/BTC' 的交易盘"
   ]
  },
  {
   "cell_type": "code",
   "execution_count": 25,
   "metadata": {},
   "outputs": [
    {
     "data": {
      "image/png": "[encoded data removed]",
      "text/plain": [
       "<matplotlib.figure.Figure at 0x119fe7358>"
      ]
     },
     "metadata": {},
     "output_type": "display_data"
    }
   ],
   "source": [
    "plt.figure(figsize=(15, 6)) \n",
    "\n",
    "ax = plt.subplot(212, )\n",
    "plt.plot(orders_okex['asks']['price'],orders_okex['asks']['volume'], label = 'ask')  \n",
    "plt.plot(orders_okex['bids']['price'],orders_okex['bids']['volume'], label = 'bid')  \n",
    "#plt.legend()\n",
    "plt.title('Okex')\n",
    "plt.subplot(211,sharex=ax)\n",
    "plt.plot(orders_hobipro['asks']['price'],orders_hobipro['asks']['volume'], label = 'ask')  \n",
    "plt.plot(orders_hobipro['bids']['price'],orders_hobipro['bids']['volume'], label = 'bid')  \n",
    "plt.legend()\n",
    "plt.title('Huobi')\n",
    "plt.tight_layout()\n",
    "plt.show()  "
   ]
  },
  {
   "cell_type": "markdown",
   "metadata": {},
   "source": [
    "## 计算两个交易所之间的价差"
   ]
  },
  {
   "cell_type": "code",
   "execution_count": 27,
   "metadata": {
    "collapsed": true
   },
   "outputs": [],
   "source": [
    "async def difference_between_two_exchange(ex1, ex2, symbol,t = 10):   \n",
    "    ex1_bids = []\n",
    "    ex2_bids = []\n",
    "    ex1_asks = []\n",
    "    ex2_asks = []\n",
    "    for i in range(t):\n",
    "        ex1_order_book = await ex1.fetch_order_book(symbol)\n",
    "        ex2_order_book = await ex2.fetch_order_book(symbol)\n",
    "        ex1_bids.append(ex1_order_book['bids'][0][0])\n",
    "        ex2_bids.append(ex2_order_book['bids'][0][0])\n",
    "        ex1_asks.append(ex1_order_book['asks'][0][0])\n",
    "        ex2_asks.append(ex2_order_book['asks'][0][0])\n",
    "        await asyncio.sleep(1)\n",
    "    ex1_bids = np.array(ex1_bids)\n",
    "    ex2_bids = np.array(ex2_bids) \n",
    "    ex1_asks = np.array(ex1_asks) \n",
    "    ex2_asks = np.array(ex2_asks)\n",
    "    \n",
    "    return {'dbids': ex1_bids - ex2_bids,\n",
    "            'dasks': ex1_asks - ex2_asks,\n",
    "            'dbidask':ex1_bids - ex2_asks,\n",
    "            'daskbid':ex1_asks - ex2_bids}"
   ]
  },
  {
   "cell_type": "markdown",
   "metadata": {},
   "source": [
    "## 将火币和 OKEX 的 ‘ETH/BTC’ 价格进行比较\n",
    "时间为 10s"
   ]
  },
  {
   "cell_type": "code",
   "execution_count": 28,
   "metadata": {},
   "outputs": [
    {
     "name": "stderr",
     "output_type": "stream",
     "text": [
      "okex requires to release all resources with an explicit call to the .close() coroutine.\n",
      "Unclosed client session\n",
      "client_session: <aiohttp.client.ClientSession object at 0x1199d7048>\n",
      "huobipro requires to release all resources with an explicit call to the .close() coroutine.\n",
      "Unclosed client session\n",
      "client_session: <aiohttp.client.ClientSession object at 0x1199e75c0>\n",
      "okex requires to release all resources with an explicit call to the .close() coroutine.\n",
      "huobipro requires to release all resources with an explicit call to the .close() coroutine.\n",
      "Unclosed client session\n",
      "client_session: <aiohttp.client.ClientSession object at 0x119d90160>\n",
      "Unclosed client session\n",
      "client_session: <aiohttp.client.ClientSession object at 0x119d80710>\n"
     ]
    }
   ],
   "source": [
    "r = asyncio.get_event_loop().run_until_complete(\n",
    "    difference_between_two_exchange(ccxt.huobipro(), ccxt.okex(), SYMBOL, t = 10))"
   ]
  },
  {
   "cell_type": "code",
   "execution_count": 29,
   "metadata": {},
   "outputs": [
    {
     "data": {
      "image/png": "[encoded data removed]",
      "text/plain": [
       "<matplotlib.figure.Figure at 0x11d608710>"
      ]
     },
     "metadata": {},
     "output_type": "display_data"
    }
   ],
   "source": [
    "plt.figure(figsize=(10, 6)) \n",
    "plt.plot(r['dbids'], label = 'dbids')  \n",
    "plt.plot(r['dasks'], label = 'dasks')  \n",
    "plt.plot(r['daskbid'], label = 'daskbid')  \n",
    "plt.plot(r['dbidask'], label = 'dbidask')  \n",
    "plt.legend()\n",
    "plt.title('huobipro & okex')\n",
    "plt.tight_layout()\n",
    "plt.show()"
   ]
  },
  {
   "cell_type": "markdown",
   "metadata": {
    "collapsed": true
   },
   "source": [
    "## 补充\n",
    "Jupyter notebook 对异步的支持不是很好，所以所有交易所之间的套利得用一个单独的python文件写"
   ]
  },
  {
   "cell_type": "code",
   "execution_count": null,
   "metadata": {
    "collapsed": true
   },
   "outputs": [],
   "source": []
  }
 ],
 "metadata": {
  "kernelspec": {
   "display_name": "Python 3",
   "language": "python",
   "name": "python3"
  },
  "language_info": {
   "codemirror_mode": {
    "name": "ipython",
    "version": 3
   },
   "file_extension": ".py",
   "mimetype": "text/x-python",
   "name": "python",
   "nbconvert_exporter": "python",
   "pygments_lexer": "ipython3",
   "version": "3.6.1"
  }
 },
 "nbformat": 4,
 "nbformat_minor": 2
}
